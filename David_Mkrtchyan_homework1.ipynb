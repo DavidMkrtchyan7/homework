{
 "cells": [
  {
   "cell_type": "code",
   "execution_count": 40,
   "metadata": {},
   "outputs": [
    {
     "name": "stdout",
     "output_type": "stream",
     "text": [
      "cake\n",
      "3\n",
      "['flour', 'butter', 'sugar', 'eggs', 'cocoa powder', 'baking powder']\n",
      "cake 3 ['flour', 'butter', 'sugar', 'eggs', 'cocoa powder', 'baking powder']\n",
      "False\n",
      "True\n",
      "True\n",
      "False\n"
     ]
    }
   ],
   "source": [
    "project=\"cake\"\n",
    "difficulty=3\n",
    "ingredients=[\"flour\",\"butter\",\"sugar\",\"eggs\",\"cocoa powder\",\"baking powder\"]\n",
    "project,difficulty,ingredients=[\"cake\",3,[\"flour\",\"butter\",\"sugar\",\"eggs\",\"cocoa powder\",\"baking powder\"]]\n",
    "print(project)\n",
    "print(difficulty)\n",
    "print(ingredients)\n",
    "print(project,difficulty,ingredients)\n",
    "print(\"apples\" in ingredients)\n",
    "print(\"butter\" in ingredients)\n",
    "print((\"eggs\" in ingredients) or (\"margarine\" in ingredients))\n",
    "print((\"eggs\" in ingredients) and (\"margarine\" in ingredients))"
   ]
  },
  {
   "cell_type": "code",
   "execution_count": 50,
   "metadata": {},
   "outputs": [
    {
     "name": "stdout",
     "output_type": "stream",
     "text": [
      "<class 'int'>\n",
      "<class 'int'>\n",
      "<class 'str'>\n",
      "<class 'int'>\n",
      "<class 'str'>\n",
      "<class 'float'>\n"
     ]
    }
   ],
   "source": [
    "flour=175\n",
    "butter=175\n",
    "sugar=\"100g\"\n",
    "eggs=2\n",
    "cocoa_powder=\"1ts\"\n",
    "baking_powder=0.5\n",
    "print(type(flour))\n",
    "print (type(butter))\n",
    "print (type(sugar))\n",
    "print (type(eggs))\n",
    "print(type(cocoa_powder))\n",
    "print (type(baking_powder))\n"
   ]
  },
  {
   "cell_type": "code",
   "execution_count": 51,
   "metadata": {},
   "outputs": [
    {
     "name": "stdout",
     "output_type": "stream",
     "text": [
      "flour- 175\n",
      "butter- 175\n",
      "sugar- 100g\n",
      "eggs- 2\n",
      "cocoa_powder- 1ts\n",
      "baking_powder- 0.5\n"
     ]
    }
   ],
   "source": [
    "print(\"flour-\",flour)\n",
    "print (\"butter-\",butter)\n",
    "print (\"sugar-\",sugar)\n",
    "print (\"eggs-\",eggs)\n",
    "print(\"cocoa_powder-\",cocoa_powder)\n",
    "print (\"baking_powder-\",baking_powder)"
   ]
  },
  {
   "cell_type": "code",
   "execution_count": 52,
   "metadata": {},
   "outputs": [
    {
     "name": "stdout",
     "output_type": "stream",
     "text": [
      "1003.0\n",
      "852\n"
     ]
    }
   ],
   "source": [
    "a=15\n",
    "b=8\n",
    "c=2\n",
    "print(5*(a**2)-(a*b)+(a%2)-(a/5))\n",
    "print((b**3)+(3*a*b)-(10*c))"
   ]
  },
  {
   "cell_type": "code",
   "execution_count": 53,
   "metadata": {},
   "outputs": [
    {
     "name": "stdout",
     "output_type": "stream",
     "text": [
      "Date  1990-05-23\n",
      "Year  1990\n",
      "Month  5\n",
      "Day  23\n",
      "Day of the week (version 0)  3\n",
      "Day of the week (version 1)  2\n",
      "2018-09-23\n",
      "Days until my next birthday  242 days, 0:00:00\n"
     ]
    }
   ],
   "source": [
    "import datetime\n",
    "import time\n",
    "import calendar\n",
    "bday=datetime.date(1990, 5, 23)\n",
    "print('Date ', bday)\n",
    "print('Year ', bday.year)\n",
    "print('Month ', bday.month)\n",
    "print('Day ', bday.day)\n",
    "print('Day of the week (version 0) ', bday.isoweekday())\n",
    "print('Day of the week (version 1) ', bday.weekday())\n",
    "tday = datetime.date.today()\n",
    "print(tday)\n",
    "nextbday = datetime.date(2019, 5, 23)\n",
    "till_bday = nextbday - tday\n",
    "print(\"Days until my next birthday \", till_bday)"
   ]
  },
  {
   "cell_type": "code",
   "execution_count": 54,
   "metadata": {},
   "outputs": [
    {
     "name": "stdout",
     "output_type": "stream",
     "text": [
      "      May 2017\n",
      "Mo Tu We Th Fr Sa Su\n",
      " 1  2  3  4  5  6  7\n",
      " 8  9 10 11 12 13 14\n",
      "15 16 17 18 19 20 21\n",
      "22 23 24 25 26 27 28\n",
      "29 30 31\n",
      "\n"
     ]
    }
   ],
   "source": [
    "calendar=calendar.month(2017,5)\n",
    "print(calendar)"
   ]
  },
  {
   "cell_type": "code",
   "execution_count": 55,
   "metadata": {},
   "outputs": [
    {
     "name": "stdout",
     "output_type": "stream",
     "text": [
      "Yesterday 2018-09-22\n",
      "Current time  Sun Sep 23 15:43:59 2018\n",
      "2018-09-24\n",
      "2018-09-19\n"
     ]
    }
   ],
   "source": [
    "tday = datetime.date.today()\n",
    "tdelta = datetime.timedelta(days = 1)\n",
    "yesterday=tday-tdelta\n",
    "print(\"Yesterday\" ,yesterday)\n",
    "print (\"Current time \", time.asctime())\n",
    "print(yesterday+datetime.timedelta(days = 2))\n",
    "print(yesterday-datetime.timedelta(days = 3))"
   ]
  },
  {
   "cell_type": "code",
   "execution_count": 56,
   "metadata": {},
   "outputs": [
    {
     "name": "stdout",
     "output_type": "stream",
     "text": [
      "1\n",
      "1\n",
      "0\n",
      "0\n"
     ]
    }
   ],
   "source": [
    "print(3%2) \n",
    "print(5%2)\n",
    "print(6%2)\n",
    "print(8%2)"
   ]
  },
  {
   "cell_type": "code",
   "execution_count": 57,
   "metadata": {},
   "outputs": [
    {
     "name": "stdout",
     "output_type": "stream",
     "text": [
      "3 -odd\n",
      "5 -odd\n",
      "6 -even\n",
      "8 -even\n"
     ]
    }
   ],
   "source": [
    "print('3 -'+ 'odd')\n",
    "print('5 -'+'odd')\n",
    "print('6 -'+'even')\n",
    "print('8 -'+'even')"
   ]
  },
  {
   "cell_type": "code",
   "execution_count": null,
   "metadata": {},
   "outputs": [],
   "source": []
  }
 ],
 "metadata": {
  "kernelspec": {
   "display_name": "Python 3",
   "language": "python",
   "name": "python3"
  },
  "language_info": {
   "codemirror_mode": {
    "name": "ipython",
    "version": 3
   },
   "file_extension": ".py",
   "mimetype": "text/x-python",
   "name": "python",
   "nbconvert_exporter": "python",
   "pygments_lexer": "ipython3",
   "version": "3.6.5"
  }
 },
 "nbformat": 4,
 "nbformat_minor": 2
}
